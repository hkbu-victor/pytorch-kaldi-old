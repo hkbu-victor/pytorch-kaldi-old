{
 "cells": [
  {
   "cell_type": "markdown",
   "metadata": {},
   "source": [
    "# map label to a vector"
   ]
  },
  {
   "cell_type": "code",
   "execution_count": 2,
   "metadata": {},
   "outputs": [
    {
     "name": "stdout",
     "output_type": "stream",
     "text": [
      "(10000000,)\n"
     ]
    }
   ],
   "source": [
    "import numpy as np\n",
    "from tqdm import tqdm_notebook\n",
    "\n",
    "BIG = 10000000\n",
    "lab = np.random.randint(5, size=BIG)\n",
    "\n",
    "dict = {}\n",
    "dict[0] = np.array([0,0,0,0,1])\n",
    "dict[1] = np.array([0,0,0,1,0])\n",
    "dict[2] = np.array([0,0,1,0,0])\n",
    "dict[3] = np.array([0,1,0,0,0])\n",
    "dict[4] = np.array([1,0,0,0,0])\n",
    "\n",
    "print(lab.shape)"
   ]
  },
  {
   "cell_type": "code",
   "execution_count": 3,
   "metadata": {},
   "outputs": [
    {
     "name": "stdout",
     "output_type": "stream",
     "text": [
      "1 loop, best of 3: 5.1 s per loop\n"
     ]
    }
   ],
   "source": [
    "%%timeit\n",
    "# ext = np.array([dict[x] for x in tqdm_notebook(lab)])\n",
    "ext = np.array([dict[x] for x in lab])"
   ]
  },
  {
   "cell_type": "code",
   "execution_count": 4,
   "metadata": {},
   "outputs": [
    {
     "name": "stdout",
     "output_type": "stream",
     "text": [
      "1 loop, best of 3: 607 ms per loop\n"
     ]
    }
   ],
   "source": [
    "%%timeit\n",
    "ext = np.empty((BIG,5), dtype=int)\n",
    "for k,v in (dict.items()):\n",
    "    ext[lab == k] = v\n",
    "\n",
    "# cf. http://bit.ly/2Qvp3dx\n",
    "#In [42]: result = np.empty(data.size, dtype=int)\n",
    "#In [43]: for key, val in mapping.items():\n",
    "#   ....:     result[data == key] = val\n",
    "#   ....:     \n",
    "#In [44]: result\n",
    "#Out[44]: array([9, 0, 9, 9, 5, 0])"
   ]
  },
  {
   "cell_type": "code",
   "execution_count": 5,
   "metadata": {},
   "outputs": [
    {
     "name": "stdout",
     "output_type": "stream",
     "text": [
      "1 loop, best of 3: 339 ms per loop\n"
     ]
    }
   ],
   "source": [
    "%%timeit\n",
    "ext = np.empty((BIG,5), dtype=int)\n",
    "\n",
    "def func(k):\n",
    "    ext[lab == k] = dict[k]\n",
    "\n",
    "from concurrent.futures import ThreadPoolExecutor\n",
    "with ThreadPoolExecutor(max_workers=5) as executor:\n",
    "        res = executor.map(func, [0,1,2,3,4])"
   ]
  },
  {
   "cell_type": "markdown",
   "metadata": {},
   "source": [
    "# fast way of generating audio feature inputs"
   ]
  },
  {
   "cell_type": "code",
   "execution_count": 12,
   "metadata": {},
   "outputs": [],
   "source": [
    "BIG = 1000\n",
    "af = {k: np.random.rand(50, 20) for k in range(BIG)}"
   ]
  },
  {
   "cell_type": "code",
   "execution_count": 22,
   "metadata": {},
   "outputs": [
    {
     "name": "stdout",
     "output_type": "stream",
     "text": [
      "(50000, 20)\n",
      "(50000, 20)\n",
      "(50000, 20)\n",
      "(50000, 20)\n",
      "1 loop, best of 3: 2.46 s per loop\n"
     ]
    }
   ],
   "source": [
    "%%timeit\n",
    "count = 0\n",
    "for k in af:\n",
    "    if count == 0:\n",
    "        count = 1\n",
    "        af_conc = af[k]\n",
    "    else:\n",
    "        af_conc = np.concatenate([af_conc, af[k]], axis=0)\n",
    "print(af_conc.shape)"
   ]
  },
  {
   "cell_type": "code",
   "execution_count": 27,
   "metadata": {},
   "outputs": [
    {
     "name": "stdout",
     "output_type": "stream",
     "text": [
      "100 loops, best of 3: 2.14 ms per loop\n"
     ]
    }
   ],
   "source": [
    "%%timeit\n",
    "# http://bit.ly/2Prdl6Y\n",
    "# af[k] equal length\n",
    "af_conc = np.array([af[k] for k in af])\n",
    "af_conc = np.reshape(af_conc, (-1, 20))"
   ]
  },
  {
   "cell_type": "code",
   "execution_count": 28,
   "metadata": {},
   "outputs": [
    {
     "name": "stdout",
     "output_type": "stream",
     "text": [
      "100 loops, best of 3: 1.96 ms per loop\n"
     ]
    }
   ],
   "source": [
    "%%timeit\n",
    "af_conc = np.concatenate([af[k] for k in af], axis=0)"
   ]
  },
  {
   "cell_type": "code",
   "execution_count": 29,
   "metadata": {},
   "outputs": [
    {
     "data": {
      "text/plain": [
       "(50000, 20)"
      ]
     },
     "execution_count": 29,
     "metadata": {},
     "output_type": "execute_result"
    }
   ],
   "source": [
    "af_conc.shape"
   ]
  },
  {
   "cell_type": "code",
   "execution_count": 16,
   "metadata": {
    "collapsed": true
   },
   "outputs": [],
   "source": [
    "def context_window(fea,left=5,right=5):\n",
    " \n",
    " N_row = fea.shape[0]\n",
    " N_fea = fea.shape[1]\n",
    " frames = np.empty((N_row-left-right, N_fea*(left+right+1)))\n",
    " \n",
    " for frame_index in range(left,N_row-right):\n",
    "  right_context=fea[frame_index+1:frame_index+right+1].flatten() # right context\n",
    "  left_context=fea[frame_index-left:frame_index].flatten() # left context\n",
    "  current_frame=np.concatenate([left_context,fea[frame_index],right_context])\n",
    "  frames[frame_index-left]=current_frame\n",
    "\n",
    " return frames"
   ]
  },
  {
   "cell_type": "code",
   "execution_count": 19,
   "metadata": {},
   "outputs": [
    {
     "name": "stdout",
     "output_type": "stream",
     "text": [
      "1 loop, best of 3: 187 ms per loop\n"
     ]
    }
   ],
   "source": [
    "%%timeit\n",
    "frames = context_window(af_conc)"
   ]
  },
  {
   "cell_type": "code",
   "execution_count": 18,
   "metadata": {},
   "outputs": [
    {
     "data": {
      "text/plain": [
       "(49990, 220)"
      ]
     },
     "execution_count": 18,
     "metadata": {},
     "output_type": "execute_result"
    }
   ],
   "source": [
    "frames.shape"
   ]
  },
  {
   "cell_type": "code",
   "execution_count": null,
   "metadata": {
    "collapsed": true
   },
   "outputs": [],
   "source": []
  }
 ],
 "metadata": {
  "kernelspec": {
   "display_name": "Python 3",
   "language": "python",
   "name": "python3"
  },
  "language_info": {
   "codemirror_mode": {
    "name": "ipython",
    "version": 3
   },
   "file_extension": ".py",
   "mimetype": "text/x-python",
   "name": "python",
   "nbconvert_exporter": "python",
   "pygments_lexer": "ipython3",
   "version": "3.6.1"
  }
 },
 "nbformat": 4,
 "nbformat_minor": 1
}
